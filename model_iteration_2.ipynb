{
 "cells": [
  {
   "cell_type": "markdown",
   "metadata": {},
   "source": [
    "# Model Iteration 2"
   ]
  },
  {
   "cell_type": "markdown",
   "metadata": {},
   "source": [
    "### Code"
   ]
  },
  {
   "cell_type": "code",
   "execution_count": 595,
   "metadata": {
    "collapsed": false
   },
   "outputs": [],
   "source": [
    "import pandas as pd\n",
    "import numpy as np\n",
    "# import re\n",
    "import operator\n",
    "\n",
    "from sklearn.linear_model import LogisticRegression, LinearRegression\n",
    "from sklearn.ensemble import RandomForestClassifier, GradientBoostingClassifier\n",
    "from sklearn import cross_validation\n",
    "from sklearn.cross_validation import KFold\n",
    "from sklearn.feature_selection import SelectKBest, f_classif"
   ]
  },
  {
   "cell_type": "code",
   "execution_count": 596,
   "metadata": {
    "collapsed": false
   },
   "outputs": [],
   "source": [
    "\"\"\"Importing Data as pandas dataframe\"\"\"\n",
    "df_train = pd.read_csv(\"train.csv\")\n",
    "df_test = pd.read_csv(\"test.csv\")\n",
    "\n",
    "#print(df_train.describe())\n",
    "#print(df_test.describe())"
   ]
  },
  {
   "cell_type": "code",
   "execution_count": 597,
   "metadata": {
    "collapsed": false
   },
   "outputs": [],
   "source": [
    "\"\"\"Functions for formatting data\"\"\"\n",
    "\n",
    "#df_train = pd.read_csv(\"train.csv\")\n",
    "#df_test = pd.read_csv(\"test.csv\")\n",
    "\n",
    "def format(df):\n",
    "    \"\"\" \n",
    "    formats all the data in the dataframe(df)\n",
    "    \"\"\"\n",
    "    format_age(df)    \n",
    "    format_fare(df)    \n",
    "    format_embarked(df)  \n",
    "    format_sex(df)    \n",
    "    format_familysize(df)\n",
    "    format_namelength(df)\n",
    "    return\n",
    "\n",
    "def format_wo_sex(df):\n",
    "    \"\"\" \n",
    "    formats all the data in the dataframe(df) except sex\n",
    "    \"\"\"\n",
    "    format_age(df)    \n",
    "    format_fare(df)    \n",
    "    format_embarked(df)   \n",
    "    format_familysize(df)\n",
    "    format_namelength(df)\n",
    "    return\n",
    "    \n",
    "def divide_all(df):\n",
    "    \"\"\"\n",
    "    divide formatted data and\n",
    "    returns new feature name as a list\n",
    "    \"\"\"\n",
    "    pclass_column = divide(df, 'Pclass')\n",
    "    age_column = divide(df, 'Age')\n",
    "    fare_column = divide(df, 'Fare')\n",
    "    embarked_column = divide(df, 'Embarked')\n",
    "    sex_column = divide(df, 'Sex')\n",
    "    familysize_column = divide(df, 'FamilySize')\n",
    "    return pclass_column + age_column + fare_column + embarked_column + sex_column + familysize_column\n",
    "\n",
    "def divide_all_wo_sex(df):\n",
    "    \"\"\"\n",
    "    divide formatted data and\n",
    "    returns new feature name as a list\n",
    "    \"\"\"\n",
    "    pclass_column = divide(df, 'Pclass')\n",
    "    age_column = divide(df, 'Age')\n",
    "    fare_column = divide(df, 'Fare')\n",
    "    embarked_column = divide(df, 'Embarked')\n",
    "    familysize_column = divide(df, 'FamilySize')\n",
    "    return pclass_column + age_column + fare_column + embarked_column + familysize_column\n",
    "\n",
    "\n",
    "def format_age(df):\n",
    "    \"\"\"\n",
    "    grouping age into agegroups (years old)\n",
    "    0: unknown age\n",
    "    1: infants (0-1) & toddlers (1-3)\n",
    "    2: preschoolers (3-5)\n",
    "    3: middle childhood (6-11)\n",
    "    4: young teen (12-14)\n",
    "    5: teenagers (15-17)\n",
    "    6: young adults (18-35)\n",
    "    7: middle-aged adults (36-55)\n",
    "    8: young older aduls (55-65)\n",
    "    9: retired (>65)\n",
    "    \n",
    "    \"\"\"\n",
    "    ag = {1:[0,3], 2:[3,5], 3:[5,11], 4:[11,14], 5:[14,17], 6:[17,35], 7:[35,55], 8:[55,65], 9:[65,150]}\n",
    "    df['Age'] = df['Age'].fillna(0)\n",
    "    \n",
    "    for i in range(1,10):\n",
    "        df.loc[(df['Age'] > ag[i][0]) & (df['Age'] <= ag[i][1]), 'Age'] = i\n",
    "    return\n",
    "\n",
    "def format_fare(df):\n",
    "    \"\"\"\n",
    "    grouping fare by amount the passenger paid\n",
    "    0: unknown\n",
    "    1: 0-10\n",
    "    2: 10-20\n",
    "    3: 20-30\n",
    "    4: 30-40\n",
    "    5: 40-550\n",
    "    \"\"\"\n",
    "    fg = {1:[0,10], 2:[10,20], 3:[20,30], 4:[30,40], 5:[40,550]}\n",
    "    df['Fare'] = df['Fare'].fillna(0)\n",
    "    \n",
    "    for i in range(1,6):\n",
    "        df.loc[(df['Fare'] > fg[i][0]) & (df['Fare'] <= fg[i][1]), 'Fare'] = i\n",
    "    return\n",
    "\n",
    "def format_embarked(df):\n",
    "    \"\"\"\n",
    "    change the value from string to float \n",
    "    for dividing up the columns later\n",
    "    0: no data available\n",
    "    1: Southampton\n",
    "    2: Cherbourg\n",
    "    3: Queenstown\n",
    "    \"\"\"\n",
    "    df['Embarked'] = df['Embarked'].fillna(0)\n",
    "    \n",
    "    df.loc[df[\"Embarked\"] == 'S', \"Embarked\"] =1\n",
    "    df.loc[df[\"Embarked\"] == 'C', \"Embarked\"] =2\n",
    "    df.loc[df[\"Embarked\"] == 'Q', \"Embarked\"] =3\n",
    "    return\n",
    "\n",
    "def format_sex(df):\n",
    "    \"\"\"\n",
    "    change the value from string to float \n",
    "    for dividing up the columns later\n",
    "    1: male\n",
    "    2: female\n",
    "    \"\"\"\n",
    "    df.loc[df['Sex'] == 'male', 'Sex'] = 1\n",
    "    df.loc[df['Sex'] == 'female', 'Sex'] = 2\n",
    "    return\n",
    "    \n",
    "def format_familysize(df):\n",
    "    \"\"\"\n",
    "    Generate column named FamilySize \n",
    "    which is the sum of number of family member onboard\n",
    "    \n",
    "    Group by familysize\n",
    "    0: unknown\n",
    "    1: 1\n",
    "    2: 2\n",
    "    3: 3-5\n",
    "    4: >5\n",
    "    5: 0\n",
    "    \"\"\"\n",
    "    df['FamilySize'] = df['SibSp'] + df['Parch']\n",
    "    df['FamilySize'] = df['FamilySize'].fillna(0)\n",
    "    \n",
    "    df.loc[(df['FamilySize'] > 2) & (df['FamilySize'] <= 5), 'FamilySize'] = 3\n",
    "    df.loc[df['FamilySize'] > 5, 'FamilySize'] = 4\n",
    "    df.loc[df['FamilySize'] == 0, 'FamilySize'] = 5\n",
    "    return\n",
    "    \n",
    "def format_namelength(df):\n",
    "    \"\"\"\n",
    "    Generate column named NameLength\n",
    "    which shows the length of the name\n",
    "    \"\"\"\n",
    "    df[\"NameLength\"] = df[\"Name\"].apply(lambda x: len(x))\n",
    "    return\n",
    "\n",
    "def divide(df, column):\n",
    "    \"\"\"\n",
    "    Create new columns for column such that the values are 1 or 0\n",
    "    returns name of the newly generated columns(features) in a list\n",
    "    \n",
    "    example:\n",
    "    divide(df, 'Sex')\n",
    "    will result in columns Sex1 and Sex2, such that\n",
    "    Sex1 will have value 1 for all males and 0 for the rest & unknown\n",
    "    Sex2 will have value 1 for all females and 0 for the rest & unknown\n",
    "    \"\"\"\n",
    "    columns = []\n",
    "    for i in df[column].unique():\n",
    "        if i == 0:\n",
    "            continue\n",
    "        else:\n",
    "            column_name = column + str(int(i))\n",
    "            df[column_name] = df[column]\n",
    "            columns.append(column_name)\n",
    "            df.loc[df[column_name] != i, column_name] = 0\n",
    "            df.loc[df[column_name] == i, column_name] = 1\n",
    "    return columns"
   ]
  },
  {
   "cell_type": "code",
   "execution_count": 598,
   "metadata": {
    "collapsed": false
   },
   "outputs": [],
   "source": [
    "\"\"\"Formatting data\"\"\"\n",
    "format(df_train)\n",
    "format(df_test)\n",
    "train_columns = divide_all(df_train)\n",
    "test_columns = divide_all(df_test)"
   ]
  },
  {
   "cell_type": "code",
   "execution_count": 599,
   "metadata": {
    "collapsed": false
   },
   "outputs": [
    {
     "name": "stdout",
     "output_type": "stream",
     "text": [
      "True\n"
     ]
    }
   ],
   "source": [
    "\"\"\"Checking to see if the columns of test data and train data are the same\"\"\"\n",
    "train_columns.sort()\n",
    "test_columns.sort()\n",
    "if train_columns == test_columns:\n",
    "    predictors = train_columns\n",
    "\n",
    "print train_columns == test_columns"
   ]
  },
  {
   "cell_type": "markdown",
   "metadata": {},
   "source": [
    "### Trying out different types of regression"
   ]
  },
  {
   "cell_type": "code",
   "execution_count": 600,
   "metadata": {
    "collapsed": false
   },
   "outputs": [
    {
     "name": "stdout",
     "output_type": "stream",
     "text": [
      "0.803591470258\n"
     ]
    },
    {
     "name": "stderr",
     "output_type": "stream",
     "text": [
      "/home/jkim/anaconda2/lib/python2.7/site-packages/ipykernel/__main__.py:26: FutureWarning: in the future, boolean array-likes will be handled as a boolean array index\n"
     ]
    }
   ],
   "source": [
    "\"\"\"Using Lineara Regression\"\"\"\n",
    "\n",
    "alg = LinearRegression()\n",
    "kf = KFold(df_train.shape[0], n_folds=3, random_state=1)\n",
    "\n",
    "predictions = []\n",
    "\n",
    "for train, test in kf:\n",
    "    # The predictors we're using the train the algorithm (only take the rows in the train folds)\n",
    "    train_predictors = (df_train[predictors].iloc[train,:])\n",
    "    # The target we're using to train the algorithm.\n",
    "    train_target = df_train[\"Survived\"].iloc[train]\n",
    "    # Training the algorithm using the predictors and target.\n",
    "    alg.fit(train_predictors, train_target)\n",
    "    # make predictions on the test fold\n",
    "    test_predictions = alg.predict(df_train[predictors].iloc[test,:])\n",
    "    predictions.append(test_predictions)\n",
    "\n",
    "# concatenate the predictions in three seperate numpy array on axis 0\n",
    "predictions = np.concatenate(predictions, axis=0)\n",
    "\n",
    "# Map predictions to outcomes (only possible outcomes are 1 and 0)\n",
    "predictions[predictions > .5] = 1\n",
    "predictions[predictions <=.5] = 0\n",
    "\n",
    "accuracy = sum(predictions[predictions == df_train[\"Survived\"]]) / len(predictions)\n",
    "print accuracy"
   ]
  },
  {
   "cell_type": "code",
   "execution_count": 601,
   "metadata": {
    "collapsed": false
   },
   "outputs": [
    {
     "data": {
      "text/plain": [
       "'\\nalg = LinearRegression()\\nalg.fit(df_train[predictors], df_train[\"Survived\"])\\nprediction = alg.predict(df_test[predictors].astype(float))[:,]\\npredictions.append(prediction)\\npredictions = np.concatenate(predictions, axis=0)\\npredictions[predictions > .5] = 1\\npredictions[predictions <=.5] = 0\\n'"
      ]
     },
     "execution_count": 601,
     "metadata": {},
     "output_type": "execute_result"
    }
   ],
   "source": [
    "\"\"\"\n",
    "alg = LinearRegression()\n",
    "alg.fit(df_train[predictors], df_train[\"Survived\"])\n",
    "prediction = alg.predict(df_test[predictors].astype(float))[:,]\n",
    "predictions.append(prediction)\n",
    "predictions = np.concatenate(predictions, axis=0)\n",
    "predictions[predictions > .5] = 1\n",
    "predictions[predictions <=.5] = 0\n",
    "\"\"\""
   ]
  },
  {
   "cell_type": "code",
   "execution_count": 602,
   "metadata": {
    "collapsed": false
   },
   "outputs": [
    {
     "name": "stdout",
     "output_type": "stream",
     "text": [
      "0.799102132435\n"
     ]
    }
   ],
   "source": [
    "\"\"\"Using LogisticRegression\"\"\"\n",
    "# Initialize our algorithm\n",
    "alg = LogisticRegression(random_state=1)\n",
    "# Compute the accuracy score for all the cross validation folds\n",
    "scores = cross_validation.cross_val_score(alg, df_train[predictors], df_train[\"Survived\"], cv=3)\n",
    "\n",
    "print(scores.mean())"
   ]
  },
  {
   "cell_type": "code",
   "execution_count": 603,
   "metadata": {
    "collapsed": false
   },
   "outputs": [
    {
     "name": "stdout",
     "output_type": "stream",
     "text": [
      "0.814814814815\n"
     ]
    }
   ],
   "source": [
    "\"\"\"Using RandomForest\"\"\"\n",
    "alg = RandomForestClassifier(random_state=1, n_estimators=150, min_samples_split=4, min_samples_leaf=2)\n",
    "# Compute the accuracy score for all the cross validation folds\n",
    "scores = cross_validation.cross_val_score(alg, df_train[predictors], df_train[\"Survived\"], cv=3)\n",
    "\n",
    "# Take the mean of the scores (because we have one for each fold)\n",
    "print(scores.mean())"
   ]
  },
  {
   "cell_type": "markdown",
   "metadata": {},
   "source": [
    "obtained submission score of 0.75120"
   ]
  },
  {
   "cell_type": "code",
   "execution_count": 604,
   "metadata": {
    "collapsed": false
   },
   "outputs": [
    {
     "data": {
      "image/png": "[encoded data removed]",
      "text/plain": [
       "<matplotlib.figure.Figure at 0x7fd13b27a350>"
      ]
     },
     "metadata": {},
     "output_type": "display_data"
    }
   ],
   "source": [
    "\"\"\"Finding the best features\"\"\"\n",
    "\n",
    "import matplotlib.pyplot as plt\n",
    "%matplotlib inline\n",
    "\n",
    "predictors_original = ['Embarked', 'Pclass', 'Sex', 'Age', 'SibSp', 'Parch', 'Fare', 'FamilySize', 'NameLength']\n",
    "predictors = predictors + predictors_original\n",
    "predictors.sort()\n",
    "\n",
    "# Perform feature selection\n",
    "selector = SelectKBest(f_classif, k=5)\n",
    "selector.fit(df_train[predictors], df_train[\"Survived\"])\n",
    "\n",
    "# Get the raw p-values for each feature, and transform from p-values into scores\n",
    "scores = -np.log10(selector.pvalues_)\n",
    "\n",
    "# Plot the scores for different features\n",
    "plt.bar(range(len(predictors)), scores)\n",
    "plt.xticks(range(len(predictors)), predictors, rotation='vertical')\n",
    "plt.show()"
   ]
  },
  {
   "cell_type": "code",
   "execution_count": 605,
   "metadata": {
    "collapsed": false
   },
   "outputs": [
    {
     "name": "stdout",
     "output_type": "stream",
     "text": [
      "0.812570145903\n"
     ]
    }
   ],
   "source": [
    "# Picking out the best features.\n",
    "predictors_filtered = ['Age1', 'Age2', 'Age4', 'Age9',\n",
    "              'Embarked1',\n",
    "              'FamilySize', \n",
    "              'Fare1', 'Fare2', \n",
    "              'NameLength',\n",
    "              'Pclass1', 'Pclass2',\n",
    "              'Sex']\n",
    "\n",
    "alg = RandomForestClassifier(random_state=1, n_estimators=150, min_samples_split=8, min_samples_leaf=4)\n",
    "scores = cross_validation.cross_val_score(alg, df_train[predictors_filtered], df_train[\"Survived\"], cv=3)\n",
    "\n",
    "print(scores.mean())"
   ]
  },
  {
   "cell_type": "code",
   "execution_count": 606,
   "metadata": {
    "collapsed": false
   },
   "outputs": [],
   "source": [
    "\"\"\"Making predictions on test data\"\"\"\n",
    "# Train the algorithm using all the training data\n",
    "alg.fit(df_train[predictors], df_train[\"Survived\"])\n",
    "\n",
    "# Make predictions using the test set.\n",
    "predictions = alg.predict(df_test[predictors])"
   ]
  },
  {
   "cell_type": "code",
   "execution_count": 607,
   "metadata": {
    "collapsed": false
   },
   "outputs": [
    {
     "name": "stdout",
     "output_type": "stream",
     "text": [
      "0.812570145903\n"
     ]
    },
    {
     "name": "stderr",
     "output_type": "stream",
     "text": [
      "/home/jkim/anaconda2/lib/python2.7/site-packages/ipykernel/__main__.py:36: FutureWarning: in the future, boolean array-likes will be handled as a boolean array index\n"
     ]
    }
   ],
   "source": [
    "\"\"\"Ensembling\"\"\"\n",
    "\n",
    "# The algorithms we want to ensemble.\n",
    "algorithms = [\n",
    "    #[GradientBoostingClassifier(random_state=1, n_estimators=25, max_depth=3), predictors + predictors_original],\n",
    "    [RandomForestClassifier(random_state=1, n_estimators=150, min_samples_split=4, min_samples_leaf=2), predictors_filtered],\n",
    "    [LogisticRegression(random_state=1), predictors], #Use more linear predictors for the logistic regression\n",
    "]\n",
    "\n",
    "# Initialize the cross validation folds\n",
    "kf = KFold(df_train.shape[0], n_folds=3, random_state=1)\n",
    "\n",
    "predictions = []\n",
    "for train, test in kf:\n",
    "    train_target = df_train[\"Survived\"].iloc[train]\n",
    "    full_test_predictions = []\n",
    "    # Make predictions for each algorithm on each fold\n",
    "    for alg, predictors in algorithms:\n",
    "        # Fit the algorithm on the training data.\n",
    "        alg.fit(df_train[predictors].iloc[train,:], train_target)\n",
    "        # Select and predict on the test fold.  \n",
    "        # The .astype(float) is necessary to convert the dataframe to all floats and avoid an sklearn error.\n",
    "        test_predictions = alg.predict_proba(df_train[predictors].iloc[test,:].astype(float))[:,1]\n",
    "        full_test_predictions.append(test_predictions)\n",
    "    # Use a simple ensembling scheme -- just average the predictions to get the final classification.\n",
    "    test_predictions = (full_test_predictions[0] + full_test_predictions[1]) / 2\n",
    "    # Any value over .5 is assumed to be a 1 prediction, and below .5 is a 0 prediction.\n",
    "    test_predictions[test_predictions <= .5] = 0\n",
    "    test_predictions[test_predictions > .5] = 1\n",
    "    predictions.append(test_predictions)\n",
    "\n",
    "# Put all the predictions together into one array.\n",
    "predictions = np.concatenate(predictions, axis=0)\n",
    "\n",
    "# Compute accuracy by comparing to the training data.\n",
    "accuracy = sum(predictions[predictions == df_train[\"Survived\"]]) / len(predictions)\n",
    "print(accuracy)"
   ]
  },
  {
   "cell_type": "code",
   "execution_count": 608,
   "metadata": {
    "collapsed": true
   },
   "outputs": [],
   "source": [
    "full_predictions = []\n",
    "for alg, predictors in algorithms:\n",
    "    # Fit the algorithm using the full training data.\n",
    "    alg.fit(df_train[predictors], df_train[\"Survived\"])\n",
    "    # Predict using the test dataset.  We have to convert all the columns to floats to avoid an error.\n",
    "    predictions = alg.predict_proba(df_test[predictors].astype(float))[:,1]\n",
    "    full_predictions.append(predictions)\n",
    "\n",
    "# The gradient boosting classifier generates better predictions, so we weight it higher.\n",
    "predictions = (full_predictions[0] * 3 + full_predictions[1]) / 4\n",
    "predictions[predictions <= .5] = 0\n",
    "predictions[predictions > .5] = 1\n",
    "predictions = predictions.astype(int)"
   ]
  },
  {
   "cell_type": "markdown",
   "metadata": {},
   "source": [
    "obtained submission score of 0.76555"
   ]
  },
  {
   "cell_type": "code",
   "execution_count": null,
   "metadata": {
    "collapsed": true
   },
   "outputs": [],
   "source": [
    "submission = pd.DataFrame({\n",
    "        \"PassengerId\": df_test[\"PassengerId\"],\n",
    "        \"Survived\": predictions\n",
    "    })\n",
    "submission.to_csv('titanic_mi2.csv', index=False)"
   ]
  },
  {
   "cell_type": "markdown",
   "metadata": {},
   "source": [
    "### Applying machine learning separately on female and male"
   ]
  },
  {
   "cell_type": "code",
   "execution_count": 617,
   "metadata": {
    "collapsed": false
   },
   "outputs": [
    {
     "name": "stderr",
     "output_type": "stream",
     "text": [
      "/home/jkim/anaconda2/lib/python2.7/site-packages/ipykernel/__main__.py:71: SettingWithCopyWarning: \n",
      "A value is trying to be set on a copy of a slice from a DataFrame.\n",
      "Try using .loc[row_indexer,col_indexer] = value instead\n",
      "\n",
      "See the caveats in the documentation: http://pandas.pydata.org/pandas-docs/stable/indexing.html#indexing-view-versus-copy\n",
      "/home/jkim/anaconda2/lib/python2.7/site-packages/ipykernel/__main__.py:88: SettingWithCopyWarning: \n",
      "A value is trying to be set on a copy of a slice from a DataFrame.\n",
      "Try using .loc[row_indexer,col_indexer] = value instead\n",
      "\n",
      "See the caveats in the documentation: http://pandas.pydata.org/pandas-docs/stable/indexing.html#indexing-view-versus-copy\n",
      "/home/jkim/anaconda2/lib/python2.7/site-packages/ipykernel/__main__.py:103: SettingWithCopyWarning: \n",
      "A value is trying to be set on a copy of a slice from a DataFrame.\n",
      "Try using .loc[row_indexer,col_indexer] = value instead\n",
      "\n",
      "See the caveats in the documentation: http://pandas.pydata.org/pandas-docs/stable/indexing.html#indexing-view-versus-copy\n",
      "/home/jkim/anaconda2/lib/python2.7/site-packages/ipykernel/__main__.py:134: SettingWithCopyWarning: \n",
      "A value is trying to be set on a copy of a slice from a DataFrame.\n",
      "Try using .loc[row_indexer,col_indexer] = value instead\n",
      "\n",
      "See the caveats in the documentation: http://pandas.pydata.org/pandas-docs/stable/indexing.html#indexing-view-versus-copy\n",
      "/home/jkim/anaconda2/lib/python2.7/site-packages/ipykernel/__main__.py:135: SettingWithCopyWarning: \n",
      "A value is trying to be set on a copy of a slice from a DataFrame.\n",
      "Try using .loc[row_indexer,col_indexer] = value instead\n",
      "\n",
      "See the caveats in the documentation: http://pandas.pydata.org/pandas-docs/stable/indexing.html#indexing-view-versus-copy\n",
      "/home/jkim/anaconda2/lib/python2.7/site-packages/ipykernel/__main__.py:147: SettingWithCopyWarning: \n",
      "A value is trying to be set on a copy of a slice from a DataFrame.\n",
      "Try using .loc[row_indexer,col_indexer] = value instead\n",
      "\n",
      "See the caveats in the documentation: http://pandas.pydata.org/pandas-docs/stable/indexing.html#indexing-view-versus-copy\n",
      "/home/jkim/anaconda2/lib/python2.7/site-packages/ipykernel/__main__.py:167: SettingWithCopyWarning: \n",
      "A value is trying to be set on a copy of a slice from a DataFrame.\n",
      "Try using .loc[row_indexer,col_indexer] = value instead\n",
      "\n",
      "See the caveats in the documentation: http://pandas.pydata.org/pandas-docs/stable/indexing.html#indexing-view-versus-copy\n"
     ]
    },
    {
     "ename": "KeyError",
     "evalue": "\"['Age9'] not in index\"",
     "output_type": "error",
     "traceback": [
      "\u001b[1;31m---------------------------------------------------------------------------\u001b[0m",
      "\u001b[1;31mKeyError\u001b[0m                                  Traceback (most recent call last)",
      "\u001b[1;32m<ipython-input-617-41f44620fbba>\u001b[0m in \u001b[0;36m<module>\u001b[1;34m()\u001b[0m\n\u001b[0;32m     75\u001b[0m \u001b[0mpredictors\u001b[0m \u001b[1;33m=\u001b[0m \u001b[0mget_predictors\u001b[0m\u001b[1;33m(\u001b[0m\u001b[0mdf_female_train\u001b[0m\u001b[1;33m,\u001b[0m \u001b[0mdf_female_test\u001b[0m\u001b[1;33m)\u001b[0m\u001b[1;33m\u001b[0m\u001b[0m\n\u001b[0;32m     76\u001b[0m \u001b[0malg\u001b[0m \u001b[1;33m=\u001b[0m \u001b[0mLogisticRegression\u001b[0m\u001b[1;33m(\u001b[0m\u001b[1;33m)\u001b[0m\u001b[1;33m\u001b[0m\u001b[0m\n\u001b[1;32m---> 77\u001b[1;33m \u001b[0mscores\u001b[0m \u001b[1;33m=\u001b[0m \u001b[0mcross_validation\u001b[0m\u001b[1;33m.\u001b[0m\u001b[0mcross_val_score\u001b[0m\u001b[1;33m(\u001b[0m\u001b[0malg\u001b[0m\u001b[1;33m,\u001b[0m \u001b[0mdf_female_train\u001b[0m\u001b[1;33m[\u001b[0m\u001b[0mpredictors\u001b[0m\u001b[1;33m]\u001b[0m\u001b[1;33m,\u001b[0m \u001b[0mdf_train\u001b[0m\u001b[1;33m[\u001b[0m\u001b[1;34m\"Survived\"\u001b[0m\u001b[1;33m]\u001b[0m\u001b[1;33m,\u001b[0m \u001b[0mcv\u001b[0m\u001b[1;33m=\u001b[0m\u001b[1;36m3\u001b[0m\u001b[1;33m)\u001b[0m\u001b[1;33m\u001b[0m\u001b[0m\n\u001b[0m\u001b[0;32m     78\u001b[0m \u001b[1;32mprint\u001b[0m\u001b[1;33m(\u001b[0m\u001b[0mscores\u001b[0m\u001b[1;33m.\u001b[0m\u001b[0mmean\u001b[0m\u001b[1;33m(\u001b[0m\u001b[1;33m)\u001b[0m\u001b[1;33m)\u001b[0m\u001b[1;33m\u001b[0m\u001b[0m\n\u001b[0;32m     79\u001b[0m \u001b[0malg\u001b[0m\u001b[1;33m.\u001b[0m\u001b[0mfit\u001b[0m\u001b[1;33m(\u001b[0m\u001b[0mdf_female_train\u001b[0m\u001b[1;33m[\u001b[0m\u001b[0mpredictors\u001b[0m\u001b[1;33m]\u001b[0m\u001b[1;33m,\u001b[0m \u001b[0mdf_female_train\u001b[0m\u001b[1;33m[\u001b[0m\u001b[1;34m\"Survived\"\u001b[0m\u001b[1;33m]\u001b[0m\u001b[1;33m)\u001b[0m\u001b[1;33m\u001b[0m\u001b[0m\n",
      "\u001b[1;32m/home/jkim/anaconda2/lib/python2.7/site-packages/pandas/core/frame.pyc\u001b[0m in \u001b[0;36m__getitem__\u001b[1;34m(self, key)\u001b[0m\n\u001b[0;32m   1961\u001b[0m         \u001b[1;32mif\u001b[0m \u001b[0misinstance\u001b[0m\u001b[1;33m(\u001b[0m\u001b[0mkey\u001b[0m\u001b[1;33m,\u001b[0m \u001b[1;33m(\u001b[0m\u001b[0mSeries\u001b[0m\u001b[1;33m,\u001b[0m \u001b[0mnp\u001b[0m\u001b[1;33m.\u001b[0m\u001b[0mndarray\u001b[0m\u001b[1;33m,\u001b[0m \u001b[0mIndex\u001b[0m\u001b[1;33m,\u001b[0m \u001b[0mlist\u001b[0m\u001b[1;33m)\u001b[0m\u001b[1;33m)\u001b[0m\u001b[1;33m:\u001b[0m\u001b[1;33m\u001b[0m\u001b[0m\n\u001b[0;32m   1962\u001b[0m             \u001b[1;31m# either boolean or fancy integer index\u001b[0m\u001b[1;33m\u001b[0m\u001b[1;33m\u001b[0m\u001b[0m\n\u001b[1;32m-> 1963\u001b[1;33m             \u001b[1;32mreturn\u001b[0m \u001b[0mself\u001b[0m\u001b[1;33m.\u001b[0m\u001b[0m_getitem_array\u001b[0m\u001b[1;33m(\u001b[0m\u001b[0mkey\u001b[0m\u001b[1;33m)\u001b[0m\u001b[1;33m\u001b[0m\u001b[0m\n\u001b[0m\u001b[0;32m   1964\u001b[0m         \u001b[1;32melif\u001b[0m \u001b[0misinstance\u001b[0m\u001b[1;33m(\u001b[0m\u001b[0mkey\u001b[0m\u001b[1;33m,\u001b[0m \u001b[0mDataFrame\u001b[0m\u001b[1;33m)\u001b[0m\u001b[1;33m:\u001b[0m\u001b[1;33m\u001b[0m\u001b[0m\n\u001b[0;32m   1965\u001b[0m             \u001b[1;32mreturn\u001b[0m \u001b[0mself\u001b[0m\u001b[1;33m.\u001b[0m\u001b[0m_getitem_frame\u001b[0m\u001b[1;33m(\u001b[0m\u001b[0mkey\u001b[0m\u001b[1;33m)\u001b[0m\u001b[1;33m\u001b[0m\u001b[0m\n",
      "\u001b[1;32m/home/jkim/anaconda2/lib/python2.7/site-packages/pandas/core/frame.pyc\u001b[0m in \u001b[0;36m_getitem_array\u001b[1;34m(self, key)\u001b[0m\n\u001b[0;32m   2005\u001b[0m             \u001b[1;32mreturn\u001b[0m \u001b[0mself\u001b[0m\u001b[1;33m.\u001b[0m\u001b[0mtake\u001b[0m\u001b[1;33m(\u001b[0m\u001b[0mindexer\u001b[0m\u001b[1;33m,\u001b[0m \u001b[0maxis\u001b[0m\u001b[1;33m=\u001b[0m\u001b[1;36m0\u001b[0m\u001b[1;33m,\u001b[0m \u001b[0mconvert\u001b[0m\u001b[1;33m=\u001b[0m\u001b[0mFalse\u001b[0m\u001b[1;33m)\u001b[0m\u001b[1;33m\u001b[0m\u001b[0m\n\u001b[0;32m   2006\u001b[0m         \u001b[1;32melse\u001b[0m\u001b[1;33m:\u001b[0m\u001b[1;33m\u001b[0m\u001b[0m\n\u001b[1;32m-> 2007\u001b[1;33m             \u001b[0mindexer\u001b[0m \u001b[1;33m=\u001b[0m \u001b[0mself\u001b[0m\u001b[1;33m.\u001b[0m\u001b[0mix\u001b[0m\u001b[1;33m.\u001b[0m\u001b[0m_convert_to_indexer\u001b[0m\u001b[1;33m(\u001b[0m\u001b[0mkey\u001b[0m\u001b[1;33m,\u001b[0m \u001b[0maxis\u001b[0m\u001b[1;33m=\u001b[0m\u001b[1;36m1\u001b[0m\u001b[1;33m)\u001b[0m\u001b[1;33m\u001b[0m\u001b[0m\n\u001b[0m\u001b[0;32m   2008\u001b[0m             \u001b[1;32mreturn\u001b[0m \u001b[0mself\u001b[0m\u001b[1;33m.\u001b[0m\u001b[0mtake\u001b[0m\u001b[1;33m(\u001b[0m\u001b[0mindexer\u001b[0m\u001b[1;33m,\u001b[0m \u001b[0maxis\u001b[0m\u001b[1;33m=\u001b[0m\u001b[1;36m1\u001b[0m\u001b[1;33m,\u001b[0m \u001b[0mconvert\u001b[0m\u001b[1;33m=\u001b[0m\u001b[0mTrue\u001b[0m\u001b[1;33m)\u001b[0m\u001b[1;33m\u001b[0m\u001b[0m\n\u001b[0;32m   2009\u001b[0m \u001b[1;33m\u001b[0m\u001b[0m\n",
      "\u001b[1;32m/home/jkim/anaconda2/lib/python2.7/site-packages/pandas/core/indexing.pyc\u001b[0m in \u001b[0;36m_convert_to_indexer\u001b[1;34m(self, obj, axis, is_setter)\u001b[0m\n\u001b[0;32m   1148\u001b[0m                 \u001b[0mmask\u001b[0m \u001b[1;33m=\u001b[0m \u001b[0mcheck\u001b[0m \u001b[1;33m==\u001b[0m \u001b[1;33m-\u001b[0m\u001b[1;36m1\u001b[0m\u001b[1;33m\u001b[0m\u001b[0m\n\u001b[0;32m   1149\u001b[0m                 \u001b[1;32mif\u001b[0m \u001b[0mmask\u001b[0m\u001b[1;33m.\u001b[0m\u001b[0many\u001b[0m\u001b[1;33m(\u001b[0m\u001b[1;33m)\u001b[0m\u001b[1;33m:\u001b[0m\u001b[1;33m\u001b[0m\u001b[0m\n\u001b[1;32m-> 1150\u001b[1;33m                     \u001b[1;32mraise\u001b[0m \u001b[0mKeyError\u001b[0m\u001b[1;33m(\u001b[0m\u001b[1;34m'%s not in index'\u001b[0m \u001b[1;33m%\u001b[0m \u001b[0mobjarr\u001b[0m\u001b[1;33m[\u001b[0m\u001b[0mmask\u001b[0m\u001b[1;33m]\u001b[0m\u001b[1;33m)\u001b[0m\u001b[1;33m\u001b[0m\u001b[0m\n\u001b[0m\u001b[0;32m   1151\u001b[0m \u001b[1;33m\u001b[0m\u001b[0m\n\u001b[0;32m   1152\u001b[0m                 \u001b[1;32mreturn\u001b[0m \u001b[0m_values_from_object\u001b[0m\u001b[1;33m(\u001b[0m\u001b[0mindexer\u001b[0m\u001b[1;33m)\u001b[0m\u001b[1;33m\u001b[0m\u001b[0m\n",
      "\u001b[1;31mKeyError\u001b[0m: \"['Age9'] not in index\""
     ]
    }
   ],
   "source": [
    "df_train = pd.read_csv(\"train.csv\")\n",
    "df_test = pd.read_csv(\"test.csv\")\n",
    "\n",
    "\"\"\"dividing male and female data\"\"\"\n",
    "df_male_train = df_train[df_train['Sex'] == 'male']\n",
    "df_female_train = df_train[df_train['Sex'] == 'female']\n",
    "\n",
    "df_male_test = df_test[df_test['Sex'] == 'male']\n",
    "df_female_test = df_test[df_test['Sex'] == 'female']\n",
    "\n",
    "def get_predictors(df_train, df_test):\n",
    "    \"\"\"format data and get predictiors as return value\"\"\"\n",
    "    \n",
    "    \"\"\"Formatting data\"\"\"\n",
    "    format(df_train)\n",
    "    format(df_test)\n",
    "    train_columns = divide_all(df_train)\n",
    "    test_columns = divide_all(df_test)\n",
    "\n",
    "    \"\"\"Checking to see if the columns of test data and train data are the same\"\"\"\n",
    "    train_columns.sort()\n",
    "    test_columns.sort()\n",
    "    #if train_columns == test_columns:\n",
    "    #    predictors = train_columns\n",
    "    #else:\n",
    "    #    predictors = test_columns\n",
    "\n",
    "    #print train_columns == test_columns\n",
    "    predictors = test_columns\n",
    "    return predictors\n",
    "\n",
    "def set_algorithm(predictors):\n",
    "    algorithms = [\n",
    "        #[GradientBoostingClassifier(random_state=1, n_estimators=25, max_depth=3), predictors + predictors_original],\n",
    "        [RandomForestClassifier(random_state=1, n_estimators=150, min_samples_split=4, min_samples_leaf=2), predictors],\n",
    "        [LogisticRegression(random_state=1), predictors], #Use more linear predictors for the logistic regression\n",
    "    ]\n",
    "    return algorithms\n",
    "\n",
    "\n",
    "def en_prediction(df_train, df_test, algorithms, predictors):\n",
    "    full_predictions = []\n",
    "    for alg, predictors in algorithms:\n",
    "        # Fit the algorithm using the full training data.\n",
    "        alg.fit(df_train[predictors], df_train[\"Survived\"])\n",
    "        # Predict using the test dataset.  We have to convert all the columns to floats to avoid an error.\n",
    "        predictions = alg.predict_proba(df_test[predictors].astype(float))[:,1]\n",
    "        full_predictions.append(predictions)\n",
    "\n",
    "    # The gradient boosting classifier generates better predictions, so we weight it higher.\n",
    "    predictions = (full_predictions[0] * 3 + full_predictions[1]) / 4\n",
    "    predictions[predictions <= .5] = 0\n",
    "    predictions[predictions > .5] = 1\n",
    "    predictions = predictions.astype(int)\n",
    "    return predictions\n",
    "\n",
    "def make_submission(df_test, predictions):\n",
    "    submission = pd.DataFrame({\n",
    "            \"PassengerId\": df_test[\"PassengerId\"],\n",
    "            \"Survived\": predictions\n",
    "        })\n",
    "    return submission\n",
    "\n",
    "predictors = get_predictors(df_male_train, df_male_test)\n",
    "algorithms = set_algorithm(predictors)\n",
    "predictions = en_prediction(df_male_train, df_male_test, algorithms, predictors)\n",
    "submission_male = make_submission(df_male_test, predictions)\n",
    "\n",
    "\"\"\"\n",
    "predictors = get_predictors(df_female_train, df_female_test)\n",
    "algorithms = set_algorithm(predictors)\n",
    "predictions = prediction(df_female_train, df_female_test, algorithms, predictors)\n",
    "submission_female = make_submission(df_female_test, predictions)\n",
    "\"\"\"\n",
    "predictors = get_predictors(df_female_train, df_female_test)\n",
    "alg = LogisticRegression()\n",
    "scores = cross_validation.cross_val_score(alg, df_female_train[predictors], df_train[\"Survived\"], cv=3)\n",
    "print(scores.mean())\n",
    "alg.fit(df_female_train[predictors], df_female_train[\"Survived\"])\n",
    "predictions = alg.predict(df_female_test[predictors])\n",
    "submission_female = make_submission(df_female_test, predictions)\n",
    "\n",
    "frames = [submission_male, submission_female]\n",
    "submission = pd.concat(frames)\n",
    "submission.to_csv('titanic_mi2.csv', index=False)"
   ]
  },
  {
   "cell_type": "markdown",
   "metadata": {},
   "source": [
    "### Reference Source"
   ]
  },
  {
   "cell_type": "raw",
   "metadata": {},
   "source": [
    "dataquest\n",
    "https://www.dataquest.io/mission/74/getting-started-with-kaggle\n",
    "https://www.dataquest.io/mission/75/improving-your-submission"
   ]
  },
  {
   "cell_type": "markdown",
   "metadata": {},
   "source": []
  }
 ],
 "metadata": {
  "kernelspec": {
   "display_name": "Python 2",
   "language": "python",
   "name": "python2"
  },
  "language_info": {
   "codemirror_mode": {
    "name": "ipython",
    "version": 2
   },
   "file_extension": ".py",
   "mimetype": "text/x-python",
   "name": "python",
   "nbconvert_exporter": "python",
   "pygments_lexer": "ipython2",
   "version": "2.7.11"
  }
 },
 "nbformat": 4,
 "nbformat_minor": 0
}
