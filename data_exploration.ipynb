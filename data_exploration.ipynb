{
 "cells": [
  {
   "cell_type": "code",
   "execution_count": 10,
   "metadata": {
    "collapsed": false
   },
   "outputs": [
    {
     "data": {
      "text/html": [
       "<div>\n",
       "<table border=\"1\" class=\"dataframe\">\n",
       "  <thead>\n",
       "    <tr style=\"text-align: right;\">\n",
       "      <th></th>\n",
       "      <th>PassengerId</th>\n",
       "      <th>Survived</th>\n",
       "      <th>Pclass</th>\n",
       "      <th>Name</th>\n",
       "      <th>Sex</th>\n",
       "      <th>Age</th>\n",
       "      <th>SibSp</th>\n",
       "      <th>Parch</th>\n",
       "      <th>Ticket</th>\n",
       "      <th>Fare</th>\n",
       "      <th>Cabin</th>\n",
       "      <th>Embarked</th>\n",
       "    </tr>\n",
       "  </thead>\n",
       "  <tbody>\n",
       "    <tr>\n",
       "      <th>0</th>\n",
       "      <td>1</td>\n",
       "      <td>0</td>\n",
       "      <td>3</td>\n",
       "      <td>Braund, Mr. Owen Harris</td>\n",
       "      <td>male</td>\n",
       "      <td>22</td>\n",
       "      <td>1</td>\n",
       "      <td>0</td>\n",
       "      <td>A/5 21171</td>\n",
       "      <td>7.2500</td>\n",
       "      <td>NaN</td>\n",
       "      <td>S</td>\n",
       "    </tr>\n",
       "    <tr>\n",
       "      <th>1</th>\n",
       "      <td>2</td>\n",
       "      <td>1</td>\n",
       "      <td>1</td>\n",
       "      <td>Cumings, Mrs. John Bradley (Florence Briggs Th...</td>\n",
       "      <td>female</td>\n",
       "      <td>38</td>\n",
       "      <td>1</td>\n",
       "      <td>0</td>\n",
       "      <td>PC 17599</td>\n",
       "      <td>71.2833</td>\n",
       "      <td>C85</td>\n",
       "      <td>C</td>\n",
       "    </tr>\n",
       "    <tr>\n",
       "      <th>2</th>\n",
       "      <td>3</td>\n",
       "      <td>1</td>\n",
       "      <td>3</td>\n",
       "      <td>Heikkinen, Miss. Laina</td>\n",
       "      <td>female</td>\n",
       "      <td>26</td>\n",
       "      <td>0</td>\n",
       "      <td>0</td>\n",
       "      <td>STON/O2. 3101282</td>\n",
       "      <td>7.9250</td>\n",
       "      <td>NaN</td>\n",
       "      <td>S</td>\n",
       "    </tr>\n",
       "    <tr>\n",
       "      <th>3</th>\n",
       "      <td>4</td>\n",
       "      <td>1</td>\n",
       "      <td>1</td>\n",
       "      <td>Futrelle, Mrs. Jacques Heath (Lily May Peel)</td>\n",
       "      <td>female</td>\n",
       "      <td>35</td>\n",
       "      <td>1</td>\n",
       "      <td>0</td>\n",
       "      <td>113803</td>\n",
       "      <td>53.1000</td>\n",
       "      <td>C123</td>\n",
       "      <td>S</td>\n",
       "    </tr>\n",
       "    <tr>\n",
       "      <th>4</th>\n",
       "      <td>5</td>\n",
       "      <td>0</td>\n",
       "      <td>3</td>\n",
       "      <td>Allen, Mr. William Henry</td>\n",
       "      <td>male</td>\n",
       "      <td>35</td>\n",
       "      <td>0</td>\n",
       "      <td>0</td>\n",
       "      <td>373450</td>\n",
       "      <td>8.0500</td>\n",
       "      <td>NaN</td>\n",
       "      <td>S</td>\n",
       "    </tr>\n",
       "  </tbody>\n",
       "</table>\n",
       "</div>"
      ],
      "text/plain": [
       "   PassengerId  Survived  Pclass  \\\n",
       "0            1         0       3   \n",
       "1            2         1       1   \n",
       "2            3         1       3   \n",
       "3            4         1       1   \n",
       "4            5         0       3   \n",
       "\n",
       "                                                Name     Sex  Age  SibSp  \\\n",
       "0                            Braund, Mr. Owen Harris    male   22      1   \n",
       "1  Cumings, Mrs. John Bradley (Florence Briggs Th...  female   38      1   \n",
       "2                             Heikkinen, Miss. Laina  female   26      0   \n",
       "3       Futrelle, Mrs. Jacques Heath (Lily May Peel)  female   35      1   \n",
       "4                           Allen, Mr. William Henry    male   35      0   \n",
       "\n",
       "   Parch            Ticket     Fare Cabin Embarked  \n",
       "0      0         A/5 21171   7.2500   NaN        S  \n",
       "1      0          PC 17599  71.2833   C85        C  \n",
       "2      0  STON/O2. 3101282   7.9250   NaN        S  \n",
       "3      0            113803  53.1000  C123        S  \n",
       "4      0            373450   8.0500   NaN        S  "
      ]
     },
     "execution_count": 10,
     "metadata": {},
     "output_type": "execute_result"
    }
   ],
   "source": [
    "import pandas as pd\n",
    "import numpy as np\n",
    "import matplotlib.pyplot as plt\n",
    "%matplotlib inline\n",
    "import seaborn as sns\n",
    "\n",
    "df = pd.read_csv(\"train.csv\")\n",
    "df.head()"
   ]
  },
  {
   "cell_type": "code",
   "execution_count": 11,
   "metadata": {
    "collapsed": false
   },
   "outputs": [
    {
     "name": "stdout",
     "output_type": "stream",
     "text": [
      "<class 'pandas.core.frame.DataFrame'>\n",
      "Int64Index: 891 entries, 0 to 890\n",
      "Data columns (total 9 columns):\n",
      "Survived    891 non-null int64\n",
      "Pclass      891 non-null int64\n",
      "Sex         891 non-null object\n",
      "Age         714 non-null float64\n",
      "SibSp       891 non-null int64\n",
      "Parch       891 non-null int64\n",
      "Fare        891 non-null float64\n",
      "Cabin       204 non-null object\n",
      "Embarked    889 non-null object\n",
      "dtypes: float64(2), int64(4), object(3)\n",
      "memory usage: 69.6+ KB\n"
     ]
    }
   ],
   "source": [
    "df = df.drop(['PassengerId','Name','Ticket'], axis=1) #drops unecessary data\n",
    "df.info() #shows information\n",
    "\"\"\"\n",
    "survival        Survival\n",
    "                (0 = No; 1 = Yes)\n",
    "pclass          Passenger Class\n",
    "                (1 = 1st; 2 = 2nd; 3 = 3rd)\n",
    "name            Name\n",
    "sex             Sex\n",
    "age             Age\n",
    "sibsp           Number of Siblings/Spouses Aboard\n",
    "parch           Number of Parents/Children Aboard\n",
    "ticket          Ticket Number\n",
    "fare            Passenger Fare\n",
    "cabin           Cabin\n",
    "embarked        Port of Embarkation\n",
    "                (C = Cherbourg; Q = Queenstown; S = Southampton)\"\"\""
   ]
  },
  {
   "cell_type": "markdown",
   "metadata": {},
   "source": [
    "There are some null data in Age and Cabin data"
   ]
  },
  {
   "cell_type": "code",
   "execution_count": 12,
   "metadata": {
    "collapsed": true
   },
   "outputs": [],
   "source": [
    "def survived(dataframe):\n",
    "    \"\"\"Returns the survivor, non-survivors of the dataframe \n",
    "    in the same format\"\"\"\n",
    "    yes = dataframe[dataframe.Survived ==1]\n",
    "    no = dataframe[dataframe.Survived ==0]\n",
    "    return yes, no\n",
    "\n",
    "def survivor_rate(dataframe):\n",
    "    \"\"\"Returns the survival rate (between value 0 to 1) of the dataframe\"\"\"\n",
    "    yes, no = survived(dataframe)\n",
    "    return float(len(yes))/len(dataframe)\n",
    "\n",
    "def sex(dataframe):\n",
    "    \"\"\" Returns female, male of dataframe \n",
    "    in the same format\"\"\"\n",
    "    female = dataframe[dataframe.Sex == 'female']\n",
    "    male = dataframe[dataframe.Sex == 'male']\n",
    "    return female, male\n",
    "\n",
    "def pclass(dataframe):\n",
    "    \"\"\" Returns passenger class 1, passenger class 2, passenger class 3 of dataframe \n",
    "    in the same format\"\"\"\n",
    "    pc1 = dataframe[dataframe.Pclass == 1]\n",
    "    pc2 = dataframe[dataframe.Pclass == 2]\n",
    "    pc3 = dataframe[dataframe.Pclass == 3]\n",
    "    return pc1, pc2, pc3\n",
    "\n",
    "def embark_port(dataframe):\n",
    "    \"\"\" Returns passengers who embarked in port Cherbourg, Queenstown, Southampton of dataframe \n",
    "    in the same format\"\"\"\n",
    "    emc = dataframe[dataframe.Embarked == 'C'] #Cherbourg\n",
    "    emq = dataframe[dataframe.Embarked == 'Q'] #Queenstown\n",
    "    ems = dataframe[dataframe.Embarked == 'S'] #Southampton\n",
    "    return emc, emq, ems\n",
    "\n",
    "def age(dataframe, parse_years):\n",
    "    \"\"\"Returns number of passengers in respective age group, each of range(parse_years),\n",
    "    in the form (number of passengers in the age group, starting age of the age group)\"\"\"\n",
    "    age_group = ()\n",
    "    group_people_no = ()\n",
    "    groups = np.ceil(dataframe.Age.max()/parse_years) #number of groups\n",
    "    for i in range (0,int(groups)):\n",
    "        y1 = i*parse_years\n",
    "        y2 = (i+1)*parse_years\n",
    "        people_no = len(dataframe[(dataframe.Age >= y1) & (dataframe.Age < y2)])\n",
    "        group_people_no = group_people_no + (people_no,)\n",
    "        age_group = age_group + (y1,)\n",
    "    return group_people_no, age_group"
   ]
  },
  {
   "cell_type": "code",
   "execution_count": 13,
   "metadata": {
    "collapsed": false
   },
   "outputs": [
    {
     "name": "stdout",
     "output_type": "stream",
     "text": [
      "survival rate for female: 0.742038216561\n",
      "survival rate for male:   0.188908145581\n"
     ]
    }
   ],
   "source": [
    "\"\"\"Comparing the survival rate of female and male\"\"\"\n",
    "female, male = sex(df)\n",
    "print \"survival rate for female:\", survivor_rate(female)\n",
    "print \"survival rate for male:  \", survivor_rate(male)"
   ]
  },
  {
   "cell_type": "code",
   "execution_count": 14,
   "metadata": {
    "collapsed": false
   },
   "outputs": [
    {
     "name": "stdout",
     "output_type": "stream",
     "text": [
      "survival rate for passenger class 1: 0.62962962963\n",
      "survival rate for passenger class 2: 0.472826086957\n",
      "survival rate for passenger class 3: 0.242362525458\n"
     ]
    }
   ],
   "source": [
    "\"\"\"Comparing survival rate of people from different class\"\"\"\n",
    "pc1, pc2, pc3 = pclass(df)\n",
    "print \"survival rate for passenger class 1:\", survivor_rate(pc1)\n",
    "print \"survival rate for passenger class 2:\", survivor_rate(pc2)\n",
    "print \"survival rate for passenger class 3:\", survivor_rate(pc3)"
   ]
  },
  {
   "cell_type": "code",
   "execution_count": 15,
   "metadata": {
    "collapsed": false
   },
   "outputs": [
    {
     "name": "stdout",
     "output_type": "stream",
     "text": [
      "survival rate for passenger who embarked at Cherbourg  : 0.553571428571\n",
      "survival rate for passenger who embarked at Queenstown : 0.38961038961\n",
      "survival rate for passenger who embarked at Southampton: 0.336956521739\n"
     ]
    }
   ],
   "source": [
    "\"\"\"Comparing survival rate of people from different port of embarkation\"\"\"\n",
    "emc, emq, ems = embark_port(df)\n",
    "print \"survival rate for passenger who embarked at Cherbourg  :\", survivor_rate(emc)\n",
    "print \"survival rate for passenger who embarked at Queenstown :\", survivor_rate(emq)\n",
    "print \"survival rate for passenger who embarked at Southampton:\", survivor_rate(ems)"
   ]
  },
  {
   "cell_type": "code",
   "execution_count": 16,
   "metadata": {
    "collapsed": false
   },
   "outputs": [
    {
     "data": {
      "image/png": "[encoded data removed]",
      "text/plain": [
       "<matplotlib.figure.Figure at 0x7f271431d090>"
      ]
     },
     "metadata": {},
     "output_type": "display_data"
    }
   ],
   "source": [
    "\"\"\"Comparing survival rate of people from different passenger class has relation to where the passenger embarked\"\"\"\n",
    "pc1_f, pc2_f, pc3_f = pclass(female)\n",
    "pc1_m, pc2_m, pc3_m = pclass(male)\n",
    "\n",
    "\"\"\"Plotting bar graph\"\"\"\n",
    "index = np.arange(3)\n",
    "width = 0.35\n",
    "\n",
    "fig, ax = plt.subplots()\n",
    "f = plt.bar(index,\n",
    "            (survivor_rate(pc1_f), survivor_rate(pc2_f),survivor_rate(pc3_f)), \n",
    "            width,\n",
    "            color = 'red')\n",
    "m = plt.bar(index + width,\n",
    "            (survivor_rate(pc1_m), survivor_rate(pc2_m), survivor_rate(pc3_m)), \n",
    "            width,\n",
    "            color = 'blue')\n",
    "\n",
    "ax.legend((f, m), ('female', 'male'))\n",
    "plt.xticks(index + width, ('passenger class 1', 'passenger class 2', 'passenger class 3'))\n",
    "plt.title('Survival Rate')\n",
    "plt.show()"
   ]
  },
  {
   "cell_type": "markdown",
   "metadata": {},
   "source": [
    "It seems like there are very significant difference in survival rate of passenger who embarked in Cherbourg port compared to passengers who embarked at other ports. Maybe this has a relation to the richness of the passenger which can be shown by passenger class. "
   ]
  },
  {
   "cell_type": "code",
   "execution_count": 32,
   "metadata": {
    "collapsed": false
   },
   "outputs": [
    {
     "data": {
      "image/png": "[encoded data removed]",
      "text/plain": [
       "<matplotlib.figure.Figure at 0x7f26f0873690>"
      ]
     },
     "metadata": {},
     "output_type": "display_data"
    }
   ],
   "source": [
    "\"\"\"Comparing to see if different passenger class has relation with where they embarked\"\"\"\n",
    "pc1_emc, pc2_emc, pc3_emc = pclass(emc)\n",
    "pc1_emq, pc2_emq, pc3_emq = pclass(emq)\n",
    "pc1_ems, pc2_ems, pc3_ems = pclass(ems)\n",
    "\n",
    "\"\"\"Plotting bar graph\"\"\"\n",
    "index = np.arange(3)\n",
    "width = 0.25\n",
    "\n",
    "fig, ax = plt.subplots()\n",
    "#ec = plt.bar(index,\n",
    "#            (survivor_rate(pc1_emc), survivor_rate(pc2_emc),survivor_rate(pc3_emc)), \n",
    "#            width)\n",
    "#eq = plt.bar(index + width,\n",
    "#            (survivor_rate(pc1_emq), survivor_rate(pc2_emq), survivor_rate(pc3_emq)), \n",
    "#            width,\n",
    "#            color = 'green')\n",
    "#em = plt.bar(index + 2*width,\n",
    "#            (survivor_rate(pc1_ems), survivor_rate(pc2_ems),survivor_rate(pc3_ems)), \n",
    "#            width,\n",
    "#            color = 'red')\n",
    "\n",
    "c1 = plt.bar(index,\n",
    "            (len(pc1_emc), len(pc1_emq),len(pc1_ems)), \n",
    "            width)\n",
    "c2 = plt.bar(index + width,\n",
    "            (len(pc2_emc), len(pc2_emq), len(pc2_ems)), \n",
    "            width,\n",
    "            color = 'green')\n",
    "c3 = plt.bar(index + 2*width,\n",
    "            (len(pc3_emc), len(pc3_emq),len(pc3_ems)), \n",
    "            width,\n",
    "            color = 'red')\n",
    "\n",
    "ax.legend((c1, c2, c3), ('passenger class 1', 'passenger class 2', 'passenger class 3'))\n",
    "plt.xticks(index + 2*width, ('Cherbourg', 'Queenstown', 'Southampton'))\n",
    "plt.title('Number of people')\n",
    "plt.show()"
   ]
  },
  {
   "cell_type": "code",
   "execution_count": 17,
   "metadata": {
    "collapsed": false
   },
   "outputs": [
    {
     "data": {
      "image/png": "[encoded data removed]",
      "text/plain": [
       "<matplotlib.figure.Figure at 0x7f26f1093c10>"
      ]
     },
     "metadata": {},
     "output_type": "display_data"
    }
   ],
   "source": [
    "\"\"\"Graph comparing number of passengers with survivors\"\"\"\n",
    "\n",
    "age_division = 5\n",
    "\n",
    "count, age_grp = age(df,age_division)\n",
    "plt.plot(age_grp, count, label='all passengers')\n",
    "\n",
    "#female_count, age_grp = age(female,age_division)\n",
    "#plt.plot(age_grp, female_count, label='female passengers')\n",
    "\n",
    "yes, no = survived(df)\n",
    "count_survived, age_grp = age(yes,age_division)\n",
    "plt.plot(age_grp, count_survived, label='survivors')\n",
    "\n",
    "female_survivors, male_survivors = sex(yes)\n",
    "female_count_survived, age_grp = age(female_survivors,age_division)\n",
    "plt.plot(age_grp, female_count_survived, label='female survivors')\n",
    "\n",
    "plt.legend()\n",
    "plt.ylabel('number of people')\n",
    "plt.xlabel('age')\n",
    "plt.show()"
   ]
  }
 ],
 "metadata": {
  "kernelspec": {
   "display_name": "Python 2",
   "language": "python",
   "name": "python2"
  },
  "language_info": {
   "codemirror_mode": {
    "name": "ipython",
    "version": 2
   },
   "file_extension": ".py",
   "mimetype": "text/x-python",
   "name": "python",
   "nbconvert_exporter": "python",
   "pygments_lexer": "ipython2",
   "version": "2.7.11"
  }
 },
 "nbformat": 4,
 "nbformat_minor": 0
}
