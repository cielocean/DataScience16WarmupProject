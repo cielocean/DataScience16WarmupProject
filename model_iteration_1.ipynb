{
 "cells": [
  {
   "cell_type": "code",
   "execution_count": 4,
   "metadata": {
    "collapsed": false
   },
   "outputs": [
    {
     "name": "stderr",
     "output_type": "stream",
     "text": [
      "/home/jkim/anaconda2/lib/python2.7/site-packages/ipykernel/__main__.py:27: SettingWithCopyWarning: \n",
      "A value is trying to be set on a copy of a slice from a DataFrame.\n",
      "Try using .loc[row_indexer,col_indexer] = value instead\n",
      "\n",
      "See the caveats in the documentation: http://pandas.pydata.org/pandas-docs/stable/indexing.html#indexing-view-versus-copy\n",
      "/home/jkim/anaconda2/lib/python2.7/site-packages/ipykernel/__main__.py:28: SettingWithCopyWarning: \n",
      "A value is trying to be set on a copy of a slice from a DataFrame.\n",
      "Try using .loc[row_indexer,col_indexer] = value instead\n",
      "\n",
      "See the caveats in the documentation: http://pandas.pydata.org/pandas-docs/stable/indexing.html#indexing-view-versus-copy\n",
      "/home/jkim/anaconda2/lib/python2.7/site-packages/ipykernel/__main__.py:30: SettingWithCopyWarning: \n",
      "A value is trying to be set on a copy of a slice from a DataFrame.\n",
      "Try using .loc[row_indexer,col_indexer] = value instead\n",
      "\n",
      "See the caveats in the documentation: http://pandas.pydata.org/pandas-docs/stable/indexing.html#indexing-view-versus-copy\n",
      "/home/jkim/anaconda2/lib/python2.7/site-packages/ipykernel/__main__.py:31: SettingWithCopyWarning: \n",
      "A value is trying to be set on a copy of a slice from a DataFrame.\n",
      "Try using .loc[row_indexer,col_indexer] = value instead\n",
      "\n",
      "See the caveats in the documentation: http://pandas.pydata.org/pandas-docs/stable/indexing.html#indexing-view-versus-copy\n",
      "/home/jkim/anaconda2/lib/python2.7/site-packages/ipykernel/__main__.py:42: SettingWithCopyWarning: \n",
      "A value is trying to be set on a copy of a slice from a DataFrame.\n",
      "Try using .loc[row_indexer,col_indexer] = value instead\n",
      "\n",
      "See the caveats in the documentation: http://pandas.pydata.org/pandas-docs/stable/indexing.html#indexing-view-versus-copy\n",
      "/home/jkim/anaconda2/lib/python2.7/site-packages/ipykernel/__main__.py:43: SettingWithCopyWarning: \n",
      "A value is trying to be set on a copy of a slice from a DataFrame.\n",
      "Try using .loc[row_indexer,col_indexer] = value instead\n",
      "\n",
      "See the caveats in the documentation: http://pandas.pydata.org/pandas-docs/stable/indexing.html#indexing-view-versus-copy\n",
      "/home/jkim/anaconda2/lib/python2.7/site-packages/ipykernel/__main__.py:44: SettingWithCopyWarning: \n",
      "A value is trying to be set on a copy of a slice from a DataFrame.\n",
      "Try using .loc[row_indexer,col_indexer] = value instead\n",
      "\n",
      "See the caveats in the documentation: http://pandas.pydata.org/pandas-docs/stable/indexing.html#indexing-view-versus-copy\n",
      "/home/jkim/anaconda2/lib/python2.7/site-packages/ipykernel/__main__.py:46: SettingWithCopyWarning: \n",
      "A value is trying to be set on a copy of a slice from a DataFrame.\n",
      "Try using .loc[row_indexer,col_indexer] = value instead\n",
      "\n",
      "See the caveats in the documentation: http://pandas.pydata.org/pandas-docs/stable/indexing.html#indexing-view-versus-copy\n",
      "/home/jkim/anaconda2/lib/python2.7/site-packages/ipykernel/__main__.py:47: SettingWithCopyWarning: \n",
      "A value is trying to be set on a copy of a slice from a DataFrame.\n",
      "Try using .loc[row_indexer,col_indexer] = value instead\n",
      "\n",
      "See the caveats in the documentation: http://pandas.pydata.org/pandas-docs/stable/indexing.html#indexing-view-versus-copy\n",
      "/home/jkim/anaconda2/lib/python2.7/site-packages/ipykernel/__main__.py:48: SettingWithCopyWarning: \n",
      "A value is trying to be set on a copy of a slice from a DataFrame.\n",
      "Try using .loc[row_indexer,col_indexer] = value instead\n",
      "\n",
      "See the caveats in the documentation: http://pandas.pydata.org/pandas-docs/stable/indexing.html#indexing-view-versus-copy\n",
      "/home/jkim/anaconda2/lib/python2.7/site-packages/ipykernel/__main__.py:51: SettingWithCopyWarning: \n",
      "A value is trying to be set on a copy of a slice from a DataFrame.\n",
      "Try using .loc[row_indexer,col_indexer] = value instead\n",
      "\n",
      "See the caveats in the documentation: http://pandas.pydata.org/pandas-docs/stable/indexing.html#indexing-view-versus-copy\n",
      "/home/jkim/anaconda2/lib/python2.7/site-packages/ipykernel/__main__.py:52: SettingWithCopyWarning: \n",
      "A value is trying to be set on a copy of a slice from a DataFrame.\n",
      "Try using .loc[row_indexer,col_indexer] = value instead\n",
      "\n",
      "See the caveats in the documentation: http://pandas.pydata.org/pandas-docs/stable/indexing.html#indexing-view-versus-copy\n",
      "/home/jkim/anaconda2/lib/python2.7/site-packages/ipykernel/__main__.py:63: SettingWithCopyWarning: \n",
      "A value is trying to be set on a copy of a slice from a DataFrame.\n",
      "Try using .loc[row_indexer,col_indexer] = value instead\n",
      "\n",
      "See the caveats in the documentation: http://pandas.pydata.org/pandas-docs/stable/indexing.html#indexing-view-versus-copy\n",
      "/home/jkim/anaconda2/lib/python2.7/site-packages/ipykernel/__main__.py:64: SettingWithCopyWarning: \n",
      "A value is trying to be set on a copy of a slice from a DataFrame.\n",
      "Try using .loc[row_indexer,col_indexer] = value instead\n",
      "\n",
      "See the caveats in the documentation: http://pandas.pydata.org/pandas-docs/stable/indexing.html#indexing-view-versus-copy\n",
      "/home/jkim/anaconda2/lib/python2.7/site-packages/ipykernel/__main__.py:75: SettingWithCopyWarning: \n",
      "A value is trying to be set on a copy of a slice from a DataFrame.\n",
      "Try using .loc[row_indexer,col_indexer] = value instead\n",
      "\n",
      "See the caveats in the documentation: http://pandas.pydata.org/pandas-docs/stable/indexing.html#indexing-view-versus-copy\n"
     ]
    },
    {
     "name": "stdout",
     "output_type": "stream",
     "text": [
      "<class 'pandas.core.frame.DataFrame'>\n",
      "<class 'pandas.core.frame.DataFrame'>\n",
      "0.809378598158\n",
      "0.770787545788\n"
     ]
    },
    {
     "name": "stderr",
     "output_type": "stream",
     "text": [
      "/home/jkim/anaconda2/lib/python2.7/site-packages/ipykernel/__main__.py:76: SettingWithCopyWarning: \n",
      "A value is trying to be set on a copy of a slice from a DataFrame.\n",
      "Try using .loc[row_indexer,col_indexer] = value instead\n",
      "\n",
      "See the caveats in the documentation: http://pandas.pydata.org/pandas-docs/stable/indexing.html#indexing-view-versus-copy\n"
     ]
    }
   ],
   "source": [
    "import pandas as pd\n",
    "import numpy as np\n",
    "\n",
    "from sklearn.linear_model import LogisticRegression, LinearRegression\n",
    "from sklearn.ensemble import RandomForestClassifier\n",
    "from sklearn.cross_validation import KFold\n",
    "from sklearn import cross_validation\n",
    "\n",
    "\"\"\"Importing Data\"\"\"\n",
    "df_train = pd.read_csv(\"train.csv\")\n",
    "df_test = pd.read_csv(\"test.csv\")\n",
    "print type(df_train)\n",
    "\n",
    "\"\"\"Dividing male and female data\"\"\"\n",
    "df_male_train = df_train[df_train['Sex'] == 'male']\n",
    "print type(df_male_train)\n",
    "df_female_train = df_train[df_train['Sex'] == 'female']\n",
    "\n",
    "df_male_test = df_test[df_test['Sex'] == 'male']\n",
    "df_female_test = df_test[df_test['Sex'] == 'female']\n",
    "\n",
    "\"\"\"Processing Datasets\"\"\"\n",
    "def predict (df_train, df_test):\n",
    "       \n",
    "    # df = df.drop(['PassengerId','Name','Ticket'], axis=1)\n",
    "    \n",
    "    df_train['Age'] = df_train['Age'].fillna(df_train['Age'].median())\n",
    "    df_train['Fare'] = df_train['Fare'].fillna(df_train['Fare'].median())\n",
    "\n",
    "    df_test['Age'] = df_test['Age'].fillna(df_test['Age'].median())\n",
    "    df_test['Fare'] = df_test['Fare'].fillna(df_test['Fare'].median())\n",
    "    \n",
    "    \"\"\"\n",
    "    #Sex   male: 0, female: 1df[]\n",
    "    df_train.loc[df_train['Sex'] == 'male', 'Sex'] = 0\n",
    "    df_train.loc[df_train['Sex'] == 'female', 'Sex'] = 1\n",
    "\n",
    "    df_test.loc[df_test['Sex'] == 'male', 'Sex'] = 0\n",
    "    df_test.loc[df_test['Sex'] == 'female', 'Sex'] = 1\n",
    "    \"\"\"\n",
    "    \n",
    "    df_train['Embarked_S'] = df_train['Embarked']\n",
    "    df_train['Embarked_C'] = df_train['Embarked']\n",
    "    df_train['Embarked_Q'] = df_train['Embarked']\n",
    "    \n",
    "    df_test['Embarked_S'] = df_test['Embarked']\n",
    "    df_test['Embarked_C'] = df_test['Embarked']\n",
    "    df_test['Embarked_Q'] = df_test['Embarked']\n",
    "    \n",
    "    #Embarked_S   Southampton: 1, rest: 0\n",
    "    df_train['Embarked_S'] = df_train['Embarked'].fillna('S')\n",
    "    df_test['Embarked_S'] = df_test['Embarked'].fillna('S')\n",
    "    \n",
    "    df_train.loc[df_train[\"Embarked_S\"] == 'S', \"Embarked_S\"] =1\n",
    "    df_train.loc[df_train[\"Embarked_S\"] == 'C', \"Embarked_S\"] =0\n",
    "    df_train.loc[df_train[\"Embarked_S\"] == 'Q', \"Embarked_S\"] =0\n",
    "\n",
    "    df_test.loc[df_test[\"Embarked_S\"] == 'S', \"Embarked_S\"] =1\n",
    "    df_test.loc[df_test[\"Embarked_S\"] == 'C', \"Embarked_S\"] =0\n",
    "    df_test.loc[df_test[\"Embarked_S\"] == 'Q', \"Embarked_S\"] =0\n",
    "\n",
    "    #Embarked_C   Cherbourg: 1, rest: 0\n",
    "    df_train['Embarked_C'] = df_train['Embarked'].fillna('C')\n",
    "    df_test['Embarked_C'] = df_test['Embarked'].fillna('C')\n",
    "\n",
    "    df_train.loc[df_train[\"Embarked_C\"] == 'S', \"Embarked_C\"] =0\n",
    "    df_train.loc[df_train[\"Embarked_C\"] == 'C', \"Embarked_C\"] =1\n",
    "    df_train.loc[df_train[\"Embarked_C\"] == 'Q', \"Embarked_C\"] =0\n",
    "\n",
    "    df_test.loc[df_test[\"Embarked_C\"] == 'S', \"Embarked_C\"] =0\n",
    "    df_test.loc[df_test[\"Embarked_C\"] == 'C', \"Embarked_C\"] =1\n",
    "    df_test.loc[df_test[\"Embarked_C\"] == 'Q', \"Embarked_C\"] =0\n",
    "\n",
    "    #Embarked_Q   Queestown: 1, rest: 0\n",
    "    df_train['Embarked_Q'] = df_train['Embarked'].fillna('Q')\n",
    "    df_test['Embarked_Q'] = df_test['Embarked'].fillna('Q')\n",
    "\n",
    "    df_train.loc[df_train[\"Embarked_Q\"] == 'S', \"Embarked_Q\"] =0\n",
    "    df_train.loc[df_train[\"Embarked_Q\"] == 'C', \"Embarked_Q\"] =0\n",
    "    df_train.loc[df_train[\"Embarked_Q\"] == 'Q', \"Embarked_Q\"] =1\n",
    "\n",
    "    df_test.loc[df_test[\"Embarked_Q\"] == 'S', \"Embarked_Q\"] =0\n",
    "    df_test.loc[df_test[\"Embarked_Q\"] == 'C', \"Embarked_Q\"] =0\n",
    "    df_test.loc[df_test[\"Embarked_Q\"] == 'Q', \"Embarked_Q\"] =1\n",
    "\n",
    "    predictors = [\"Pclass\", \"Age\", \"SibSp\", \"Fare\", \"Parch\", \"Embarked_S\", \"Embarked_C\", \"Embarked_Q\"]\n",
    "\n",
    "    alg = LinearRegression()\n",
    "    kf = KFold(df_train.shape[0], n_folds=3)\n",
    "\n",
    "    predictions = []\n",
    "    for train, test in kf:\n",
    "        train_predictors = (df_train[predictors].iloc[train,:])\n",
    "        train_target = df_train[\"Survived\"].iloc[train]\n",
    "        alg.fit(train_predictors, train_target)\n",
    "        test_predictions = alg.predict(df_train[predictors].iloc[test,:])\n",
    "        predictions.append(test_predictions)\n",
    "    \n",
    "    alg = LogisticRegression()\n",
    "    scores = cross_validation.cross_val_score(alg, df_train[predictors], df_train[\"Survived\"], cv=3)\n",
    "    print(scores.mean())\n",
    "\n",
    "    alg.fit(df_train[predictors], df_train[\"Survived\"])\n",
    "    predictions = alg.predict(df_test[predictors])\n",
    "    submission = pd.DataFrame({\n",
    "            \"PassengerId\": df_test[\"PassengerId\"],\n",
    "            \"Survived\": predictions\n",
    "            })\n",
    "    \n",
    "    return submission\n",
    "\n",
    "male_submission = predict (df_male_train, df_male_test)\n",
    "female_submission = predict (df_female_train, df_female_test)\n",
    "frames = [male_submission, female_submission]\n",
    "submission = pd.concat(frames)\n",
    "\n",
    "submission.to_csv('titanic.csv', index=False)\n"
   ]
  },
  {
   "cell_type": "raw",
   "metadata": {},
   "source": [
    "DataQuest Mission Score: 0.72249\n"
   ]
  },
  {
   "cell_type": "markdown",
   "metadata": {},
   "source": [
    "I forgot .loc the embarked port to value 0, 1 and 2"
   ]
  },
  {
   "cell_type": "markdown",
   "metadata": {},
   "source": [
    "1st revision Score: 0.74641"
   ]
  },
  {
   "cell_type": "markdown",
   "metadata": {},
   "source": [
    "Divided Embarked columns into 3: Embarked_S with value 1 for passengers who embarked in port S and 0 for rest,\n",
    "                                 Embarked_C with value 1 for passengers who embarked in port C and 0 for rest,\n",
    "                                 Embarked_Q with value 1 for passengers who embarked in port Q and 0 for rest"
   ]
  },
  {
   "cell_type": "raw",
   "metadata": {},
   "source": [
    "2nd revision Score: 0.75120"
   ]
  },
  {
   "cell_type": "markdown",
   "metadata": {},
   "source": [
    "Tried using RandomForestClassifier instead of LogisticRegression"
   ]
  },
  {
   "cell_type": "markdown",
   "metadata": {},
   "source": [
    "3rd revision Score: 0.78947"
   ]
  },
  {
   "cell_type": "markdown",
   "metadata": {
    "collapsed": true
   },
   "source": [
    "predicted for male and female seperately and combined them afterwards"
   ]
  }
 ],
 "metadata": {
  "kernelspec": {
   "display_name": "Python 2",
   "language": "python",
   "name": "python2"
  },
  "language_info": {
   "codemirror_mode": {
    "name": "ipython",
    "version": 2
   },
   "file_extension": ".py",
   "mimetype": "text/x-python",
   "name": "python",
   "nbconvert_exporter": "python",
   "pygments_lexer": "ipython2",
   "version": "2.7.11"
  }
 },
 "nbformat": 4,
 "nbformat_minor": 0
}
